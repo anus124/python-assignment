{
 "cells": [
  {
   "cell_type": "code",
   "execution_count": 1,
   "metadata": {},
   "outputs": [
    {
     "name": "stdout",
     "output_type": "stream",
     "text": [
      "type your operator here to perform calculation: pwr\n",
      "type you first value to be calculated: 41\n",
      "type your power no: 3\n",
      "the root of the value is :  68921\n"
     ]
    }
   ],
   "source": [
    "#Q1\n",
    "                    #USER_INPUT#\n",
    "opert=input(\"type your operator here to perform calculation: \")\n",
    "\n",
    "                    #calculation statment#\n",
    "if opert == \"+\":\n",
    "    val1= int(input(\"type you first value to be calculated: \"))\n",
    "    val2= int(input(\"type you second value to be calculated: \"))\n",
    "    ans=val1+val2\n",
    "    print(\"the sum of the value is: \",ans)\n",
    "elif opert == \"/\":\n",
    "    val1= int(input(\"type you first value to be calculated: \"))\n",
    "    val2= int(input(\"type you second value to be calculated: \"))\n",
    "    ans2=val1/val2\n",
    "    print(\"the sum of the value is: \",ans2)\n",
    "elif opert == \"*\":\n",
    "    val1= int(input(\"type you first value to be calculated: \"))\n",
    "    val2= int(input(\"type you second value to be calculated: \"))\n",
    "    ans3=val1*val2\n",
    "    print(\"the sum of the value is: \",ans3)\n",
    "elif opert == \"-\":\n",
    "    val1= int(input(\"type you first value to be calculated: \"))\n",
    "    val2= int(input(\"type you second value to be calculated: \"))\n",
    "    ans4=val1-val2\n",
    "    print(\"the sum of the value is: \",ans4)\n",
    "elif opert ==\"pwr\":\n",
    "    val1= int(input(\"type you first value to be calculated: \"))\n",
    "    pwr= int(input(\"type your power no: \"))\n",
    "    ans5= val1**pwr\n",
    "    print(\"the root of the value is : \",ans5)\n",
    "elif opert ==\"sqr\":\n",
    "    val1= int(input(\"type you first value to be calculated: \"))\n",
    "    ans5= val1**2\n",
    "    print(\"the squre root of the value is : \",ans5)\n",
    "else:\n",
    "    print(\"worng operator! plz press right operoter\")\n",
    "\n",
    "\n",
    "\n"
   ]
  },
  {
   "cell_type": "code",
   "execution_count": 2,
   "metadata": {},
   "outputs": [
    {
     "name": "stdout",
     "output_type": "stream",
     "text": [
      "input your key here: gender\n",
      "input your vaue here: male\n",
      "{'name': 'ali', 'age': 18, 'class': 12, 'gender': 'male'}\n"
     ]
    }
   ],
   "source": [
    "#Q3\n",
    "                #dictionary_data#\n",
    "data ={\n",
    "    \"name\":\"ali\",\n",
    "    \"age\":18,\n",
    "    \"class\":12,\n",
    "}\n",
    "                #dictinoryUpdate_script#\n",
    "k =input(\"input your key here: \")\n",
    "v =input(\"input your vaue here: \")\n",
    "data.update({k:v})\n",
    "print(data)\n"
   ]
  },
  {
   "cell_type": "code",
   "execution_count": 3,
   "metadata": {},
   "outputs": [
    {
     "name": "stdout",
     "output_type": "stream",
     "text": [
      "the total qty of all item is 13\n"
     ]
    }
   ],
   "source": [
    "#Q4\n",
    "            #dictinory#\n",
    "item_qty={\n",
    "    \"mango\":2,\n",
    "    \"apple\":3,\n",
    "    \"pineapple\":3,\n",
    "    \"strewberry\":5\n",
    "}\n",
    "            #method of add the numeric value#\n",
    "print(\"the total qty of all item is\",sum(item_qty.values()))"
   ]
  },
  {
   "cell_type": "code",
   "execution_count": 8,
   "metadata": {},
   "outputs": [
    {
     "name": "stdout",
     "output_type": "stream",
     "text": [
      "2\n",
      "4\n",
      "1\n"
     ]
    }
   ],
   "source": [
    "#Q5\n",
    "        #list#\n",
    "a=[1,2,4,2,3,4,1]\n",
    "d=[]\n",
    "        #methode of find duplicat value#\n",
    "for i in a :\n",
    "    for b in d:\n",
    "        if i == b:\n",
    "            print(i)\n",
    "    d.append(i)\n",
    "            \n",
    "            \n",
    "            "
   ]
  },
  {
   "cell_type": "code",
   "execution_count": 10,
   "metadata": {},
   "outputs": [
    {
     "name": "stdout",
     "output_type": "stream",
     "text": [
      "20\n",
      "30\n",
      "24\n"
     ]
    }
   ],
   "source": [
    "#q2\n",
    "            #list#\n",
    "lis1=[\"ali\",20,\"aliyan\",30,\"fahad\",24]\n",
    "            \n",
    "    #methode of find numeric value#\n",
    "for i in lis1:\n",
    "    if type(i)==int:\n",
    "        print(i)\n",
    "        "
   ]
  },
  {
   "cell_type": "code",
   "execution_count": 15,
   "metadata": {},
   "outputs": [
    {
     "name": "stdout",
     "output_type": "stream",
     "text": [
      "type the key to cheak they are exsist: 7\n",
      "the key are not exsist\n"
     ]
    }
   ],
   "source": [
    "#Q4\n",
    "            #dictinory#\n",
    "lis={\n",
    "    1:\"mango\",\n",
    "    2:\"apple\",\n",
    "    3:\"pineapple\",\n",
    "    4:\"strewberry\"\n",
    "}\n",
    "            #taking use input#\n",
    "inp= input(\"type the key to cheak they are exsist: \")\n",
    "            \n",
    "            #methode of find exsist key#\n",
    "if inp in lis.keys():\n",
    "    print(\"the key are exsist\")\n",
    "else:\n",
    "    print(\"the key are not exsist\")"
   ]
  },
  {
   "cell_type": "code",
   "execution_count": null,
   "metadata": {},
   "outputs": [],
   "source": []
  }
 ],
 "metadata": {
  "kernelspec": {
   "display_name": "Python 3",
   "language": "python",
   "name": "python3"
  },
  "language_info": {
   "codemirror_mode": {
    "name": "ipython",
    "version": 3
   },
   "file_extension": ".py",
   "mimetype": "text/x-python",
   "name": "python",
   "nbconvert_exporter": "python",
   "pygments_lexer": "ipython3",
   "version": "3.7.4"
  }
 },
 "nbformat": 4,
 "nbformat_minor": 2
}
