{
 "cells": [
  {
   "cell_type": "code",
   "execution_count": 2,
   "metadata": {},
   "outputs": [
    {
     "name": "stdout",
     "output_type": "stream",
     "text": [
      "Type your english marks out of 100: 75\n",
      "Type your math marks out of 100: 85\n",
      "Type your urdu marks out of 100: 95\n",
      "Type your pst marks out of 100: 54\n",
      "Type your islamiat marks out of 100: 45\n",
      "your total marks is: 354 out of 500\n",
      "your per% is: 70.8% out of 100%\n",
      "your grade is : A \n"
     ]
    }
   ],
   "source": [
    "#Q1\n",
    "                        #input struct#\n",
    "sub1 = int(input(\"Type your english marks out of 100: \"))\n",
    "sub2 = int(input(\"Type your math marks out of 100: \"))\n",
    "sub3 = int(input(\"Type your urdu marks out of 100: \"))\n",
    "sub4 = int(input(\"Type your pst marks out of 100: \"))\n",
    "sub5 = int(input(\"Type your islamiat marks out of 100: \"))\n",
    "\n",
    "                        #calculation process#\n",
    "total = sub1+sub2+sub3+sub4+sub5\n",
    "print(\"your total marks is: \"+str(total)+\" out of 500\")\n",
    "per = float(total/500*100)\n",
    "print(\"your per% is: \"+str(per)+\"% out of 100%\")\n",
    "\n",
    "                        #grading code#\n",
    "\n",
    "if per >= 80 and per <=100:\n",
    "    print(\"your grade is : A+ \")\n",
    "elif per >=70 and per <=80:\n",
    "    print(\"your grade is : A \")\n",
    "elif per >=60 and per <=70:\n",
    "    print(\"your grade is : B \")\n",
    "elif per >=50 and per <=60:\n",
    "    print(\"your grade is : C\" )\n",
    "elif per >=40 and per <=50:\n",
    "    print(\"your grade is : D\" )\n",
    "elif per <40:\n",
    "    print(\"your grade is : F\")\n",
    "else:\n",
    "    print(\"plz enetered percentail\")\n"
   ]
  },
  {
   "cell_type": "code",
   "execution_count": 4,
   "metadata": {},
   "outputs": [
    {
     "name": "stdout",
     "output_type": "stream",
     "text": [
      "type your number: 22\n",
      "your number 22 is even\n"
     ]
    }
   ],
   "source": [
    "#q2\n",
    "\n",
    "num = int(input(\"type your number: \"))\n",
    "\n",
    "if num%2==0:\n",
    "    print(\"your number \"+str(num)+\" is even\")\n",
    "else:\n",
    "    print(\"your number \"+str(num)+\" is odd\")"
   ]
  },
  {
   "cell_type": "code",
   "execution_count": 6,
   "metadata": {},
   "outputs": [
    {
     "name": "stdout",
     "output_type": "stream",
     "text": [
      "the length of the list is 5\n"
     ]
    }
   ],
   "source": [
    "#Q3\n",
    "lis =[\"usman\",\"islamabad\",4,\"lahore\",23.4]\n",
    "print(\"the length of the list is\",len(lis))\n"
   ]
  },
  {
   "cell_type": "code",
   "execution_count": 8,
   "metadata": {},
   "outputs": [
    {
     "name": "stdout",
     "output_type": "stream",
     "text": [
      "the answer is  917\n"
     ]
    }
   ],
   "source": [
    "#Q4\n",
    "\n",
    "lis1= [43,23,32,44,775]\n",
    "print(\"the answer is \",sum(lis1))\n"
   ]
  },
  {
   "cell_type": "code",
   "execution_count": 10,
   "metadata": {},
   "outputs": [
    {
     "name": "stdout",
     "output_type": "stream",
     "text": [
      "[3, 2, 2, 3, 1]\n"
     ]
    }
   ],
   "source": [
    "#Q5\n",
    "lis = [54,12,14,3,2,2,3,41,15,45,1]\n",
    "v=[]\n",
    "\n",
    "for a in lis:\n",
    "    if a <5 :\n",
    "        v.append(a)\n",
    "print(v)"
   ]
  },
  {
   "cell_type": "code",
   "execution_count": null,
   "metadata": {},
   "outputs": [],
   "source": []
  }
 ],
 "metadata": {
  "kernelspec": {
   "display_name": "Python 3",
   "language": "python",
   "name": "python3"
  },
  "language_info": {
   "codemirror_mode": {
    "name": "ipython",
    "version": 3
   },
   "file_extension": ".py",
   "mimetype": "text/x-python",
   "name": "python",
   "nbconvert_exporter": "python",
   "pygments_lexer": "ipython3",
   "version": "3.7.4"
  }
 },
 "nbformat": 4,
 "nbformat_minor": 2
}
